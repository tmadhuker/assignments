{
  "nbformat": 4,
  "nbformat_minor": 0,
  "metadata": {
    "colab": {
      "name": "Programming Assignment 1.ipynb",
      "provenance": []
    },
    "kernelspec": {
      "name": "python3",
      "display_name": "Python 3",
      "language": "python"
    },
    "language_info": {
      "name": "python",
      "version": "3.8.5-final"
    }
  },
  "cells": [
    {
      "cell_type": "markdown",
      "metadata": {
        "id": "fcNvWOlS8SGh"
      },
      "source": [
        "1-Write a Python program to print \"Hello Python\"?\n"
      ]
    },
    {
      "cell_type": "code",
      "metadata": {
        "colab": {
          "base_uri": "https://localhost:8080/"
        },
        "id": "RrKlmV7g8lGb",
        "outputId": "f91fc636-220d-41bc-c513-71047499cbb2"
      },
      "source": [
        "print(\"Hello Python\")"
      ],
      "execution_count": 1,
      "outputs": [
        {
          "output_type": "stream",
          "name": "stdout",
          "text": [
            "Hello Python\n"
          ]
        }
      ]
    },
    {
      "cell_type": "markdown",
      "metadata": {
        "id": "71d50EFh8XKZ"
      },
      "source": [
        "2-write a Python program to do arithmetical operations addition and division.?\n"
      ]
    },
    {
      "cell_type": "code",
      "metadata": {
        "colab": {
          "base_uri": "https://localhost:8080/"
        },
        "id": "9wfUOX9P9e4x",
        "outputId": "81128ad4-2d8f-4bc8-ce09-1f5be965a0ca"
      },
      "source": [
        "def add(a,b) :\n",
        "  c=a+b\n",
        "  return c\n",
        "def div(a,b) :\n",
        "  c=a/b\n",
        "  return c\n",
        "print(\"addition value:\",add(4,3)) \n",
        "print(\"division value:\",div(4,3))\n"
      ],
      "execution_count": 2,
      "outputs": [
        {
          "output_type": "stream",
          "name": "stdout",
          "text": [
            "addition value: 7\ndivision value: 1.3333333333333333\n"
          ]
        }
      ]
    },
    {
      "cell_type": "markdown",
      "metadata": {
        "id": "Lwy8-0UA8Zio"
      },
      "source": [
        "3-Write a Python program to find the area of a triangle?"
      ]
    },
    {
      "cell_type": "code",
      "metadata": {
        "colab": {
          "base_uri": "https://localhost:8080/"
        },
        "id": "ijJsDwgdC6fV",
        "outputId": "e5a2bb0d-7086-483e-d5ab-04f1b40fed8b"
      },
      "source": [
        "def areaoftraingle(base,height):\n",
        "  area=0.5*base*height\n",
        "  return area\n",
        "print(areaoftraingle(10,10))"
      ],
      "execution_count": 11,
      "outputs": [
        {
          "output_type": "stream",
          "text": [
            "50.0\n"
          ],
          "name": "stdout"
        }
      ]
    },
    {
      "cell_type": "markdown",
      "metadata": {
        "id": "99ITlxzy8boV"
      },
      "source": [
        "4-Write a Python program to swap two variables?\n"
      ]
    },
    {
      "cell_type": "code",
      "metadata": {
        "colab": {
          "base_uri": "https://localhost:8080/"
        },
        "id": "JMIXUR4tIYXA",
        "outputId": "8ca80958-0735-4992-a821-7ba17930be3a"
      },
      "source": [
        "def swap(a,b):\n",
        "  c=a\n",
        "  a=b\n",
        "  b=c\n",
        "  return a,b\n",
        "print(swap(10,15))\n"
      ],
      "execution_count": 12,
      "outputs": [
        {
          "output_type": "stream",
          "text": [
            "(15, 10)\n"
          ],
          "name": "stdout"
        }
      ]
    },
    {
      "cell_type": "markdown",
      "metadata": {
        "id": "CFPQBBsl8dr9"
      },
      "source": [
        "5-Write a Python program to generate a random number?"
      ]
    },
    {
      "cell_type": "code",
      "metadata": {
        "colab": {
          "base_uri": "https://localhost:8080/"
        },
        "id": "8iqOc8ZQ7DK3",
        "outputId": "e7dae989-2ac1-4d44-86b2-5cce5b48c38b"
      },
      "source": [
        "import random \n",
        "value = random.randint(1,100)\n",
        "print(value)"
      ],
      "execution_count": 18,
      "outputs": [
        {
          "output_type": "stream",
          "text": [
            "45\n"
          ],
          "name": "stdout"
        }
      ]
    }
  ]
}